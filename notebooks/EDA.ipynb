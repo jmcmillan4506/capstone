{
 "cells": [
  {
   "cell_type": "code",
   "execution_count": 1,
   "metadata": {},
   "outputs": [],
   "source": [
    "import pandas as pd\n",
    "import matplotlib.pyplot as plt\n",
    "from collections import Counter"
   ]
  },
  {
   "cell_type": "code",
   "execution_count": 2,
   "metadata": {},
   "outputs": [
    {
     "name": "stdout",
     "output_type": "stream",
     "text": [
      "<class 'pandas.core.frame.DataFrame'>\n",
      "RangeIndex: 930 entries, 0 to 929\n",
      "Data columns (total 4 columns):\n",
      " #   Column      Non-Null Count  Dtype  \n",
      "---  ------      --------------  -----  \n",
      " 0   Date        930 non-null    object \n",
      " 1   Age Groups  930 non-null    object \n",
      " 2   Gender      930 non-null    object \n",
      " 3   Veterans    930 non-null    float64\n",
      "dtypes: float64(1), object(3)\n",
      "memory usage: 29.2+ KB\n"
     ]
    }
   ],
   "source": [
    "vetpop_national_data = pd.read_csv('../data/VetPop2018_National_Data__1L.csv')\n",
    "vetpop_national_data.info()"
   ]
  },
  {
   "cell_type": "code",
   "execution_count": 3,
   "metadata": {},
   "outputs": [],
   "source": [
    "vetpop_national_data['Date'] = pd.to_datetime(vetpop_national_data['Date'])"
   ]
  },
  {
   "cell_type": "code",
   "execution_count": 4,
   "metadata": {},
   "outputs": [
    {
     "name": "stdout",
     "output_type": "stream",
     "text": [
      "<class 'pandas.core.frame.DataFrame'>\n",
      "RangeIndex: 1488 entries, 0 to 1487\n",
      "Data columns (total 4 columns):\n",
      " #   Column    Non-Null Count  Dtype \n",
      "---  ------    --------------  ----- \n",
      " 0   Date      1488 non-null   object\n",
      " 1   Gender    1488 non-null   object\n",
      " 2   POS       1488 non-null   object\n",
      " 3   Veterans  1488 non-null   int64 \n",
      "dtypes: int64(1), object(3)\n",
      "memory usage: 46.6+ KB\n"
     ]
    }
   ],
   "source": [
    "vetpop_POS_national_data = pd.read_csv('../data/VetPop2018_POS_National_Data__2L.csv')\n",
    "vetpop_POS_national_data.info()"
   ]
  },
  {
   "cell_type": "code",
   "execution_count": 5,
   "metadata": {},
   "outputs": [],
   "source": [
    "vetpop_POS_national_data['Date'] = pd.to_datetime(vetpop_POS_national_data['Date'])"
   ]
  },
  {
   "cell_type": "code",
   "execution_count": 6,
   "metadata": {},
   "outputs": [
    {
     "name": "stdout",
     "output_type": "stream",
     "text": [
      "<class 'pandas.core.frame.DataFrame'>\n",
      "RangeIndex: 620 entries, 0 to 619\n",
      "Data columns (total 4 columns):\n",
      " #   Column          Non-Null Count  Dtype \n",
      "---  ------          --------------  ----- \n",
      " 0   Date            620 non-null    object\n",
      " 1   Gender          620 non-null    object\n",
      " 2   Race/Ethnicity  620 non-null    object\n",
      " 3   Veterans        620 non-null    int64 \n",
      "dtypes: int64(1), object(3)\n",
      "memory usage: 19.5+ KB\n"
     ]
    }
   ],
   "source": [
    "vetpop_ethnicity_national_data = pd.read_csv('../data/VetPop2018_Race_Ethnicity_National_Data__3L.csv')\n",
    "vetpop_ethnicity_national_data.info()"
   ]
  },
  {
   "cell_type": "code",
   "execution_count": 7,
   "metadata": {},
   "outputs": [],
   "source": [
    "vetpop_ethnicity_national_data['Date'] = pd.to_datetime(vetpop_ethnicity_national_data['Date'])"
   ]
  },
  {
   "cell_type": "code",
   "execution_count": 8,
   "metadata": {},
   "outputs": [
    {
     "name": "stdout",
     "output_type": "stream",
     "text": [
      "<class 'pandas.core.frame.DataFrame'>\n",
      "RangeIndex: 372 entries, 0 to 371\n",
      "Data columns (total 4 columns):\n",
      " #   Column    Non-Null Count  Dtype \n",
      "---  ------    --------------  ----- \n",
      " 0   Gender    372 non-null    object\n",
      " 1   Date      372 non-null    object\n",
      " 2   Branch    372 non-null    object\n",
      " 3   Veterans  372 non-null    int64 \n",
      "dtypes: int64(1), object(3)\n",
      "memory usage: 11.8+ KB\n"
     ]
    }
   ],
   "source": [
    "vetpop_branch_national_data = pd.read_csv('../data/VetPop2018_Branch_National_Data__4L.csv')\n",
    "vetpop_branch_national_data.info()"
   ]
  },
  {
   "cell_type": "code",
   "execution_count": 9,
   "metadata": {},
   "outputs": [],
   "source": [
    "vetpop_branch_national_data['Date'] = pd.to_datetime(vetpop_branch_national_data['Date'])"
   ]
  },
  {
   "cell_type": "code",
   "execution_count": 10,
   "metadata": {},
   "outputs": [
    {
     "name": "stdout",
     "output_type": "stream",
     "text": [
      "<class 'pandas.core.frame.DataFrame'>\n",
      "RangeIndex: 124 entries, 0 to 123\n",
      "Data columns (total 4 columns):\n",
      " #   Column    Non-Null Count  Dtype \n",
      "---  ------    --------------  ----- \n",
      " 0   Gender    124 non-null    object\n",
      " 1   Date      124 non-null    object\n",
      " 2   Rank      124 non-null    object\n",
      " 3   Veterans  124 non-null    int64 \n",
      "dtypes: int64(1), object(3)\n",
      "memory usage: 4.0+ KB\n"
     ]
    }
   ],
   "source": [
    "vetpop_rank_national_data = pd.read_csv('../data/VetPop2018_Rank_National_Data__5L.csv')\n",
    "vetpop_rank_national_data.info()"
   ]
  },
  {
   "cell_type": "code",
   "execution_count": 11,
   "metadata": {},
   "outputs": [],
   "source": [
    "vetpop_rank_national_data['Date'] = pd.to_datetime(vetpop_rank_national_data['Date'])"
   ]
  },
  {
   "cell_type": "code",
   "execution_count": 12,
   "metadata": {},
   "outputs": [
    {
     "name": "stdout",
     "output_type": "stream",
     "text": [
      "<class 'pandas.core.frame.DataFrame'>\n",
      "RangeIndex: 49290 entries, 0 to 49289\n",
      "Data columns (total 5 columns):\n",
      " #   Column      Non-Null Count  Dtype  \n",
      "---  ------      --------------  -----  \n",
      " 0   Date        49290 non-null  object \n",
      " 1   Age Groups  49290 non-null  object \n",
      " 2   Gender      49290 non-null  object \n",
      " 3   State       49290 non-null  object \n",
      " 4   Veterans    49290 non-null  float64\n",
      "dtypes: float64(1), object(4)\n",
      "memory usage: 1.9+ MB\n"
     ]
    }
   ],
   "source": [
    "vetpop_state_data = pd.read_csv('../data/VetPop2018_State_Data__6L.csv')\n",
    "vetpop_state_data.info()"
   ]
  },
  {
   "cell_type": "code",
   "execution_count": 13,
   "metadata": {},
   "outputs": [],
   "source": [
    "vetpop_state_data['Date'] = pd.to_datetime(vetpop_state_data['Date'])"
   ]
  },
  {
   "cell_type": "code",
   "execution_count": 14,
   "metadata": {},
   "outputs": [
    {
     "name": "stdout",
     "output_type": "stream",
     "text": [
      "<class 'pandas.core.frame.DataFrame'>\n",
      "RangeIndex: 78864 entries, 0 to 78863\n",
      "Data columns (total 6 columns):\n",
      " #   Column     Non-Null Count  Dtype  \n",
      "---  ------     --------------  -----  \n",
      " 0   Date       78864 non-null  object \n",
      " 1   State      78864 non-null  object \n",
      " 2   Gender     78864 non-null  object \n",
      " 3   POS        78864 non-null  object \n",
      " 4   Veterans   78864 non-null  float64\n",
      " 5   statecode  3148 non-null   float64\n",
      "dtypes: float64(2), object(4)\n",
      "memory usage: 3.6+ MB\n"
     ]
    }
   ],
   "source": [
    "vetpop_POS_state_data = pd.read_csv('../data/VetPop2018_POS_State_Data__7L.csv')\n",
    "vetpop_POS_state_data.info()"
   ]
  },
  {
   "cell_type": "code",
   "execution_count": 15,
   "metadata": {},
   "outputs": [],
   "source": [
    "vetpop_POS_state_data['statecode'] = vetpop_POS_state_data['statecode'].astype(str)"
   ]
  },
  {
   "cell_type": "code",
   "execution_count": 16,
   "metadata": {},
   "outputs": [],
   "source": [
    "vetpop_POS_state_data['Date'] = pd.to_datetime(vetpop_POS_state_data['Date'])"
   ]
  },
  {
   "cell_type": "code",
   "execution_count": 17,
   "metadata": {},
   "outputs": [
    {
     "name": "stdout",
     "output_type": "stream",
     "text": [
      "<class 'pandas.core.frame.DataFrame'>\n",
      "RangeIndex: 32860 entries, 0 to 32859\n",
      "Data columns (total 6 columns):\n",
      " #   Column          Non-Null Count  Dtype  \n",
      "---  ------          --------------  -----  \n",
      " 0   Date            32860 non-null  object \n",
      " 1   FIPST           32860 non-null  int64  \n",
      " 2   State           32860 non-null  object \n",
      " 3   Gender          32860 non-null  object \n",
      " 4   Race/Ethnicity  32860 non-null  object \n",
      " 5   Veterans        32860 non-null  float64\n",
      "dtypes: float64(1), int64(1), object(4)\n",
      "memory usage: 1.5+ MB\n"
     ]
    }
   ],
   "source": [
    "vetpop_ethnicity_state_data = pd.read_csv('../data/VetPop2018_Race_Ethnicity_State_Data__8L.csv')\n",
    "vetpop_ethnicity_state_data.info()"
   ]
  },
  {
   "cell_type": "code",
   "execution_count": 18,
   "metadata": {},
   "outputs": [],
   "source": [
    "vetpop_ethnicity_state_data['FIPST'] = vetpop_ethnicity_state_data['FIPST'].astype(str)"
   ]
  },
  {
   "cell_type": "code",
   "execution_count": 19,
   "metadata": {},
   "outputs": [],
   "source": [
    "vetpop_ethnicity_state_data['Date'] = pd.to_datetime(vetpop_ethnicity_state_data['Date'])"
   ]
  },
  {
   "cell_type": "code",
   "execution_count": 20,
   "metadata": {
    "scrolled": true
   },
   "outputs": [
    {
     "name": "stdout",
     "output_type": "stream",
     "text": [
      "<class 'pandas.core.frame.DataFrame'>\n",
      "RangeIndex: 780704 entries, 0 to 780703\n",
      "Data columns (total 7 columns):\n",
      " #   Column      Non-Null Count   Dtype  \n",
      "---  ------      --------------   -----  \n",
      " 0   Date        780704 non-null  object \n",
      " 1   FIPS        780704 non-null  int64  \n",
      " 2   County, St  780704 non-null  object \n",
      " 3   Age Group   780704 non-null  object \n",
      " 4   State       780704 non-null  object \n",
      " 5   Gender      780704 non-null  object \n",
      " 6   Veterans    780704 non-null  float64\n",
      "dtypes: float64(1), int64(1), object(5)\n",
      "memory usage: 41.7+ MB\n"
     ]
    }
   ],
   "source": [
    "vetpop_county_data = pd.read_csv('../data/VetPop2018_County_Data__9L.csv')\n",
    "vetpop_county_data.info()"
   ]
  },
  {
   "cell_type": "code",
   "execution_count": 21,
   "metadata": {},
   "outputs": [],
   "source": [
    "vetpop_county_data['FIPS'] = vetpop_county_data['FIPS'].astype(str)"
   ]
  },
  {
   "cell_type": "code",
   "execution_count": 22,
   "metadata": {},
   "outputs": [],
   "source": [
    "vetpop_county_data['Date'] = pd.to_datetime(vetpop_county_data['Date'])"
   ]
  },
  {
   "cell_type": "code",
   "execution_count": 23,
   "metadata": {},
   "outputs": [
    {
     "name": "stdout",
     "output_type": "stream",
     "text": [
      "<class 'pandas.core.frame.DataFrame'>\n",
      "RangeIndex: 54188 entries, 0 to 54187\n",
      "Data columns (total 6 columns):\n",
      " #   Column                       Non-Null Count  Dtype  \n",
      "---  ------                       --------------  -----  \n",
      " 0   State                        54188 non-null  object \n",
      " 1   Congressional District (CD)  54188 non-null  object \n",
      " 2   Gender                       54188 non-null  object \n",
      " 3   Age Group                    54188 non-null  object \n",
      " 4   Date                         54188 non-null  object \n",
      " 5   Veteran                      54188 non-null  float64\n",
      "dtypes: float64(1), object(5)\n",
      "memory usage: 2.5+ MB\n"
     ]
    }
   ],
   "source": [
    "vetpop_Congress_data = pd.read_csv('../data/VetPop2018_116th_Congress_Data__10L.csv')\n",
    "vetpop_Congress_data.info()"
   ]
  },
  {
   "cell_type": "code",
   "execution_count": 24,
   "metadata": {},
   "outputs": [],
   "source": [
    "vetpop_Congress_data['Date'] = pd.to_datetime(vetpop_Congress_data['Date'])"
   ]
  },
  {
   "cell_type": "code",
   "execution_count": 25,
   "metadata": {},
   "outputs": [
    {
     "name": "stdout",
     "output_type": "stream",
     "text": [
      "<class 'pandas.core.frame.DataFrame'>\n",
      "RangeIndex: 4464 entries, 0 to 4463\n",
      "Data columns (total 6 columns):\n",
      " #   Column            Non-Null Count  Dtype \n",
      "---  ------            --------------  ----- \n",
      " 0   Gender            4464 non-null   object\n",
      " 1   Date              4464 non-null   object\n",
      " 2   VISN              4464 non-null   int64 \n",
      " 3   VISN Description  4464 non-null   object\n",
      " 4   Age Group         4464 non-null   object\n",
      " 5   Veteran           4464 non-null   int64 \n",
      "dtypes: int64(2), object(4)\n",
      "memory usage: 209.4+ KB\n"
     ]
    }
   ],
   "source": [
    "vetpop_VISN_data = pd.read_csv('../data/VetPop2018_VISN_Data__11L.csv')\n",
    "vetpop_VISN_data.info()"
   ]
  },
  {
   "cell_type": "code",
   "execution_count": 26,
   "metadata": {},
   "outputs": [],
   "source": [
    "vetpop_VISN_data['Date'] = pd.to_datetime(vetpop_Congress_data['Date'])"
   ]
  },
  {
   "cell_type": "code",
   "execution_count": 27,
   "metadata": {},
   "outputs": [],
   "source": [
    "vetpop_VISN_data['VISN'] = vetpop_VISN_data['VISN'].astype(str)"
   ]
  },
  {
   "cell_type": "code",
   "execution_count": 28,
   "metadata": {},
   "outputs": [],
   "source": [
    "def date_groupby(dataframe):\n",
    "    grouped_df = dataframe.groupby(pd.Grouper(key='Date',freq='Y')).sum()\n",
    "    return grouped_df "
   ]
  },
  {
   "cell_type": "code",
   "execution_count": 29,
   "metadata": {},
   "outputs": [],
   "source": [
    "national_data_date = date_groupby(vetpop_national_data)"
   ]
  },
  {
   "cell_type": "code",
   "execution_count": 30,
   "metadata": {},
   "outputs": [],
   "source": [
    "POS_national_data_date = date_groupby(vetpop_POS_national_data)"
   ]
  },
  {
   "cell_type": "code",
   "execution_count": 31,
   "metadata": {},
   "outputs": [],
   "source": [
    "ethnicity_national_data_date = date_groupby(vetpop_ethnicity_national_data)"
   ]
  },
  {
   "cell_type": "code",
   "execution_count": 32,
   "metadata": {},
   "outputs": [],
   "source": [
    "branch_national_data_date = date_groupby(vetpop_branch_national_data)"
   ]
  },
  {
   "cell_type": "code",
   "execution_count": 33,
   "metadata": {},
   "outputs": [],
   "source": [
    "rank_national_data_date = date_groupby(vetpop_rank_national_data)"
   ]
  },
  {
   "cell_type": "code",
   "execution_count": 34,
   "metadata": {},
   "outputs": [],
   "source": [
    "state_data_date = date_groupby(vetpop_state_data)"
   ]
  },
  {
   "cell_type": "code",
   "execution_count": 35,
   "metadata": {},
   "outputs": [],
   "source": [
    "POS_state_data_date = date_groupby(vetpop_POS_state_data)"
   ]
  },
  {
   "cell_type": "code",
   "execution_count": 36,
   "metadata": {},
   "outputs": [],
   "source": [
    "ethnicity_state_data_date = date_groupby(vetpop_ethnicity_state_data)"
   ]
  },
  {
   "cell_type": "code",
   "execution_count": 37,
   "metadata": {},
   "outputs": [],
   "source": [
    "county_data_date = date_groupby(vetpop_county_data)"
   ]
  },
  {
   "cell_type": "code",
   "execution_count": 38,
   "metadata": {},
   "outputs": [],
   "source": [
    "Congress_data_date = date_groupby(vetpop_Congress_data)"
   ]
  },
  {
   "cell_type": "code",
   "execution_count": 39,
   "metadata": {},
   "outputs": [],
   "source": [
    "VISN_data_date = date_groupby(vetpop_VISN_data)"
   ]
  },
  {
   "cell_type": "code",
   "execution_count": 48,
   "metadata": {},
   "outputs": [],
   "source": [
    "def find_year_2021(dataframe):\n",
    "    year_df = dataframe.loc[dataframe['Date'] == '2021-09-30']\n",
    "    return year_df"
   ]
  },
  {
   "cell_type": "code",
   "execution_count": 50,
   "metadata": {},
   "outputs": [],
   "source": [
    "national_data_2021 = find_year_2021(vetpop_national_data)"
   ]
  },
  {
   "cell_type": "code",
   "execution_count": 51,
   "metadata": {},
   "outputs": [],
   "source": [
    "POS_national_data_2021 = find_year_2021(vetpop_POS_national_data)"
   ]
  },
  {
   "cell_type": "code",
   "execution_count": 52,
   "metadata": {},
   "outputs": [],
   "source": [
    "ethnicity_national_data_2021 = find_year_2021(vetpop_ethnicity_national_data)"
   ]
  },
  {
   "cell_type": "code",
   "execution_count": 53,
   "metadata": {},
   "outputs": [],
   "source": [
    "branch_national_data_2021 = find_year_2021(vetpop_branch_national_data)"
   ]
  },
  {
   "cell_type": "code",
   "execution_count": 54,
   "metadata": {},
   "outputs": [],
   "source": [
    "rank_national_data_2021 = find_year_2021(vetpop_rank_national_data)"
   ]
  },
  {
   "cell_type": "code",
   "execution_count": 55,
   "metadata": {},
   "outputs": [],
   "source": [
    "state_data_2021 = find_year_2021(vetpop_state_data)"
   ]
  },
  {
   "cell_type": "code",
   "execution_count": 56,
   "metadata": {},
   "outputs": [],
   "source": [
    "POS_state_data_2021 = find_year_2021(vetpop_POS_state_data)"
   ]
  },
  {
   "cell_type": "code",
   "execution_count": 57,
   "metadata": {},
   "outputs": [],
   "source": [
    "ethnicity_state_data_2021 = find_year_2021(vetpop_ethnicity_state_data)"
   ]
  },
  {
   "cell_type": "code",
   "execution_count": 58,
   "metadata": {},
   "outputs": [],
   "source": [
    "county_data_2021 = find_year_2021(vetpop_county_data)"
   ]
  },
  {
   "cell_type": "code",
   "execution_count": 59,
   "metadata": {},
   "outputs": [],
   "source": [
    "Congress_data_2021 = find_year_2021(vetpop_Congress_data)"
   ]
  },
  {
   "cell_type": "code",
   "execution_count": 60,
   "metadata": {},
   "outputs": [],
   "source": [
    "VISN_data_2021 = find_year_2021(vetpop_VISN_data)"
   ]
  },
  {
   "cell_type": "code",
   "execution_count": 63,
   "metadata": {},
   "outputs": [],
   "source": [
    "#national_data_2021.to_csv('national_data_2021.csv',index=False)"
   ]
  },
  {
   "cell_type": "code",
   "execution_count": 64,
   "metadata": {},
   "outputs": [],
   "source": [
    "#POS_national_data_2021.to_csv('POS_national_data_2021.csv',index=False)"
   ]
  },
  {
   "cell_type": "code",
   "execution_count": 65,
   "metadata": {},
   "outputs": [],
   "source": [
    "#ethnicity_national_data_2021.to_csv('ethnicity_national_data_2021.csv',index=False)"
   ]
  },
  {
   "cell_type": "code",
   "execution_count": 66,
   "metadata": {},
   "outputs": [],
   "source": [
    "#branch_national_data_2021.to_csv('branch_national_data_2021.csv',index=False)"
   ]
  },
  {
   "cell_type": "code",
   "execution_count": 67,
   "metadata": {},
   "outputs": [],
   "source": [
    "#rank_national_data_2021.to_csv('rank_national_data_2021.csv',index=False)"
   ]
  },
  {
   "cell_type": "code",
   "execution_count": 68,
   "metadata": {},
   "outputs": [],
   "source": [
    "#state_data_2021.to_csv('state_data_2021.csv',index=False)"
   ]
  },
  {
   "cell_type": "code",
   "execution_count": 69,
   "metadata": {},
   "outputs": [],
   "source": [
    "#POS_state_data_2021.to_csv('POS_state_data_2021.csv',index=False)"
   ]
  },
  {
   "cell_type": "code",
   "execution_count": 70,
   "metadata": {},
   "outputs": [],
   "source": [
    "#ethnicity_state_data_2021.to_csv('ethnicity_state_data_2021.csv',index=False)"
   ]
  },
  {
   "cell_type": "code",
   "execution_count": 71,
   "metadata": {},
   "outputs": [],
   "source": [
    "#county_data_2021.to_csv('county_data_2021.csv',index=False)"
   ]
  },
  {
   "cell_type": "code",
   "execution_count": 72,
   "metadata": {},
   "outputs": [],
   "source": [
    "#Congress_data_2021.to_csv('Congress_data_2021.csv',index=False)"
   ]
  },
  {
   "cell_type": "code",
   "execution_count": 73,
   "metadata": {},
   "outputs": [],
   "source": [
    "#VISN_data_2021.to_csv('VISN_data_2021.csv',index=False)"
   ]
  },
  {
   "cell_type": "code",
   "execution_count": null,
   "metadata": {},
   "outputs": [],
   "source": []
  }
 ],
 "metadata": {
  "kernelspec": {
   "display_name": "Python 3",
   "language": "python",
   "name": "python3"
  },
  "language_info": {
   "codemirror_mode": {
    "name": "ipython",
    "version": 3
   },
   "file_extension": ".py",
   "mimetype": "text/x-python",
   "name": "python",
   "nbconvert_exporter": "python",
   "pygments_lexer": "ipython3",
   "version": "3.8.5"
  }
 },
 "nbformat": 4,
 "nbformat_minor": 4
}
